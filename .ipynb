{
 "cells": [
  {
   "cell_type": "markdown",
   "metadata": {},
   "source": [
    "## 1. Recoleccion de datos"
   ]
  },
  {
   "cell_type": "code",
   "execution_count": 1,
   "metadata": {},
   "outputs": [
    {
     "name": "stdout",
     "output_type": "stream",
     "text": [
      "Requirement already satisfied: spotipy in c:\\users\\fer-h\\anaconda3\\lib\\site-packages (2.20.0)\n",
      "Requirement already satisfied: redis>=3.5.3 in c:\\users\\fer-h\\anaconda3\\lib\\site-packages (from spotipy) (4.3.4)\n",
      "Requirement already satisfied: six>=1.15.0 in c:\\users\\fer-h\\anaconda3\\lib\\site-packages (from spotipy) (1.16.0)\n",
      "Requirement already satisfied: urllib3>=1.26.0 in c:\\users\\fer-h\\anaconda3\\lib\\site-packages (from spotipy) (1.26.7)\n",
      "Requirement already satisfied: requests>=2.25.0 in c:\\users\\fer-h\\anaconda3\\lib\\site-packages (from spotipy) (2.26.0)\n",
      "Requirement already satisfied: packaging>=20.4 in c:\\users\\fer-h\\anaconda3\\lib\\site-packages (from redis>=3.5.3->spotipy) (21.0)\n",
      "Requirement already satisfied: deprecated>=1.2.3 in c:\\users\\fer-h\\anaconda3\\lib\\site-packages (from redis>=3.5.3->spotipy) (1.2.13)\n",
      "Requirement already satisfied: async-timeout>=4.0.2 in c:\\users\\fer-h\\anaconda3\\lib\\site-packages (from redis>=3.5.3->spotipy) (4.0.2)\n",
      "Requirement already satisfied: wrapt<2,>=1.10 in c:\\users\\fer-h\\anaconda3\\lib\\site-packages (from deprecated>=1.2.3->redis>=3.5.3->spotipy) (1.12.1)\n",
      "Requirement already satisfied: pyparsing>=2.0.2 in c:\\users\\fer-h\\anaconda3\\lib\\site-packages (from packaging>=20.4->redis>=3.5.3->spotipy) (3.0.4)\n",
      "Requirement already satisfied: charset-normalizer~=2.0.0 in c:\\users\\fer-h\\anaconda3\\lib\\site-packages (from requests>=2.25.0->spotipy) (2.0.4)\n",
      "Requirement already satisfied: idna<4,>=2.5 in c:\\users\\fer-h\\anaconda3\\lib\\site-packages (from requests>=2.25.0->spotipy) (3.2)\n",
      "Requirement already satisfied: certifi>=2017.4.17 in c:\\users\\fer-h\\anaconda3\\lib\\site-packages (from requests>=2.25.0->spotipy) (2021.10.8)\n"
     ]
    }
   ],
   "source": [
    "!pip install spotipy\n",
    "import spotipy\n",
    "from  spotipy.oauth2 import SpotifyClientCredentials\n",
    "import spotipy.util as util"
   ]
  },
  {
   "cell_type": "markdown",
   "metadata": {},
   "source": [
    "1. ir a developer.spotify.com\n",
    "2. ingresar a la pestaña DASHBOARD\n",
    "3. crear una una aplicacion definiendo el nombre y la descripcion\n"
   ]
  },
  {
   "cell_type": "code",
   "execution_count": 2,
   "metadata": {},
   "outputs": [],
   "source": [
    "cid=\"f1ddb43be5e04418b0c588aa632cf726\"\n",
    "secret=\"d8ba3b9a5e3b45c694afa60a672156f1\"\n",
    "username=\"12145924164\"\n",
    "redirect_uri=\"https://localhost:8080\""
   ]
  },
  {
   "cell_type": "markdown",
   "metadata": {},
   "source": [
    "### 1.1 connection spotify-app"
   ]
  },
  {
   "cell_type": "code",
   "execution_count": 3,
   "metadata": {},
   "outputs": [],
   "source": [
    "scope=\"user-top-read\"\n",
    "token=util.prompt_for_user_token(username,scope,cid,secret,redirect_uri)\n",
    "sp=spotipy.Spotify(auth=token)"
   ]
  },
  {
   "cell_type": "markdown",
   "metadata": {},
   "source": [
    "### 1.2 top 10 track of user"
   ]
  },
  {
   "cell_type": "code",
   "execution_count": null,
   "metadata": {},
   "outputs": [],
   "source": []
  }
 ],
 "metadata": {
  "kernelspec": {
   "display_name": "Python 3.9.7 ('base')",
   "language": "python",
   "name": "python3"
  },
  "language_info": {
   "codemirror_mode": {
    "name": "ipython",
    "version": 3
   },
   "file_extension": ".py",
   "mimetype": "text/x-python",
   "name": "python",
   "nbconvert_exporter": "python",
   "pygments_lexer": "ipython3",
   "version": "3.9.7"
  },
  "orig_nbformat": 4,
  "vscode": {
   "interpreter": {
    "hash": "07ec8f9646e375d23574612bb75cafb21e131e7161b9e98028c97e47027d79f9"
   }
  }
 },
 "nbformat": 4,
 "nbformat_minor": 2
}
